{
 "cells": [
  {
   "cell_type": "code",
   "execution_count": 4,
   "metadata": {},
   "outputs": [],
   "source": [
    "from selenium import webdriver\n",
    "from selenium.webdriver.common.keys import Keys\n",
    "from selenium.webdriver.common.by import By\n",
    "import time\n",
    "import openpyxl \n",
    "from xlwt import Workbook\n",
    "import random\n",
    "import re\n",
    "\n",
    "driver = webdriver.Chrome(executable_path='C:\\\\Users\\\\Moyez\\\\AppData\\\\Local\\\\Programs\\\\Python\\\\Python37-32\\\\chromedriver_win32\\\\chromedriver.exe')"
   ]
  },
  {
   "cell_type": "code",
   "execution_count": 5,
   "metadata": {},
   "outputs": [
    {
     "name": "stderr",
     "output_type": "stream",
     "text": [
      "c:\\users\\moyez\\appdata\\local\\programs\\python\\python37-32\\lib\\site-packages\\ipykernel_launcher.py:4: DeprecationWarning: Call to deprecated function get_sheet_by_name (Use wb[sheetname]).\n",
      "  after removing the cwd from sys.path.\n"
     ]
    }
   ],
   "source": [
    "path = \"C:\\\\Users\\\\Moyez\\\\AppData\\\\Local\\\\Programs\\\\Python\\\\Python37-32\\\\Scripts\\\\Survey DIU\\\\5th-Convocation-Alumni1.xlsx\"\n",
    "wb_obj = openpyxl.load_workbook(path) \n",
    "sheet_obj = wb_obj.active\n",
    "sheet = wb_obj.get_sheet_by_name('All Alumni')"
   ]
  },
  {
   "cell_type": "code",
   "execution_count": 6,
   "metadata": {},
   "outputs": [
    {
     "name": "stdout",
     "output_type": "stream",
     "text": [
      "176\n",
      "177\n",
      "178\n",
      "179\n",
      "180\n",
      "181\n",
      "182\n",
      "183\n",
      "184\n",
      "185\n",
      "186\n",
      "187\n",
      "188\n",
      "189\n",
      "190\n",
      "191\n",
      "192\n",
      "193\n",
      "194\n",
      "195\n",
      "196\n",
      "197\n",
      "198\n",
      "199\n",
      "Execution Complete\n",
      "176\n",
      "177\n",
      "178\n",
      "179\n",
      "182\n",
      "183\n",
      "184\n",
      "186\n",
      "187\n",
      "188\n",
      "189\n",
      "190\n",
      "191\n",
      "192\n",
      "193\n",
      "194\n",
      "195\n",
      "196\n",
      "197\n",
      "198\n"
     ]
    }
   ],
   "source": [
    "work_row = []\n",
    "for row in range(176,200):\n",
    "    print(row)\n",
    "    driver.get('http://pd.daffodilvarsity.edu.bd/survey/start/22812fd3-137e-4a63-bf6c-5b4e8fe8c73e?fbclid=IwAR0WOSeESGoPu1pRoUip20ARHnzJ1YMscJmE-6OGJdlHAzGpOXopwZ3Cq4c')\n",
    "    time.sleep(5)\n",
    "    driver.find_element_by_xpath('/html/body/div/div[2]/div[2]/div/a').click()\n",
    "    time.sleep(10)\n",
    "    cell_obj3 = sheet_obj.cell(row, column = 3)\n",
    "    cell_obj4 = sheet_obj.cell(row, column = 4)\n",
    "    cell_obj5 = sheet_obj.cell(row, column = 5)\n",
    "    cell_obj8 = sheet_obj.cell(row, column = 8) \n",
    "    cell_obj9 = sheet_obj.cell(row, column = 9) \n",
    "    cell_obj14 = sheet_obj.cell(row, column = 14) \n",
    "\n",
    "    gender = cell_obj3.value\n",
    "    name = cell_obj4.value\n",
    "    id = cell_obj5.value\n",
    "    session = cell_obj8.value\n",
    "    organisation = cell_obj9.value\n",
    "    mail = cell_obj14.value\n",
    "    if gender == '':\n",
    "        continue\n",
    "    else:\n",
    "        try:\n",
    "            try:\n",
    "                if mail.find('\\=HYPERLINK'):\n",
    "                    mail = mail.split(\"\\\"\")[3]\n",
    "            except:\n",
    "                pass\n",
    "            try:\n",
    "                if(gender == 'female'):\n",
    "                    driver.find_element_by_css_selector(\"input[type='radio'][value='250']\").click()\n",
    "                else:\n",
    "                    driver.find_element_by_css_selector(\"input[type='radio'][value='249']\").click()\n",
    "            except:\n",
    "                pass\n",
    "            time.sleep(1) \n",
    "\n",
    "            driver.find_element_by_name('15_101').send_keys(mail)\n",
    "\n",
    "            driver.find_element_by_name('15_102').send_keys(name)\n",
    "            \n",
    "            # varsity list value 251-272\n",
    "            if id.split('-')[1] == '15' or id.split('-')[1] == '25':\n",
    "                time.sleep(1) \n",
    "                driver.find_element_by_css_selector(\"input[type=\\'radio\\'][value='251']\").click() \n",
    "            elif id.split('-')[1] == '35':\n",
    "                time.sleep(1) \n",
    "                driver.find_element_by_css_selector(\"input[type=\\'radio\\'][value='252']\").click() \n",
    "            elif id.split('-')[1] == '31' or id.split('-')[1] == '19':\n",
    "                time.sleep(1) \n",
    "                driver.find_element_by_css_selector(\"input[type=\\'radio\\'][value='256']\").click() \n",
    "            elif id.split('-')[1] == '32' or id.split('-')[1] == '23':\n",
    "                time.sleep(1) \n",
    "                driver.find_element_by_css_selector(\"input[type=\\'radio\\'][value='257']\").click() \n",
    "            elif id.split('-')[1] == '33':\n",
    "                time.sleep(1) \n",
    "                driver.find_element_by_css_selector(\"input[type=\\'radio\\'][value='258']\").click() \n",
    "            elif id.split('-')[1] == '11' or id.split('-')[1] == '14':\n",
    "                time.sleep(1) \n",
    "                driver.find_element_by_css_selector(\"input[type=\\'radio\\'][value='260']\").click()\n",
    "            elif id.split('-')[1] == '17':\n",
    "                time.sleep(1) \n",
    "                driver.find_element_by_css_selector(\"input[type=\\'radio\\'][value='261']\").click() \n",
    "            elif id.split('-')[1] == '41' or id.split('-')[1] == '29':\n",
    "                time.sleep(1) \n",
    "                driver.find_element_by_css_selector(\"input[type=\\'radio\\'][value='266']\").click() \n",
    "            elif id.split('-')[1] == '22' or id.split('-')[1] == '10':\n",
    "                time.sleep(1) \n",
    "                driver.find_element_by_css_selector(\"input[type=\\'radio\\'][value='269']\").click() \n",
    "            elif id.split('-')[1] == '38' or id.split('-')[1] == '26':\n",
    "                time.sleep(1) \n",
    "                driver.find_element_by_css_selector(\"input[type=\\'radio\\'][value='270']\").click() \n",
    "            elif id.split('-')[1] == '34':\n",
    "                time.sleep(1) \n",
    "                driver.find_element_by_css_selector(\"input[type=\\'radio\\'][value='267']\").click() \n",
    "            elif id.split('-')[1] == '28':\n",
    "                time.sleep(1) \n",
    "                driver.find_element_by_css_selector(\"input[type=\\'radio\\'][value='271']\").click()\n",
    "            else:\n",
    "                pass\n",
    "            time.sleep(1) \n",
    "\n",
    "            driver.find_element_by_name('15_104').send_keys(session)\n",
    "\n",
    "            driver.find_element_by_name('15_105').send_keys(str(round(random.uniform(2.70, 3.80), 2)))\n",
    "\n",
    "            present_organisation = random.randrange(273,275)\n",
    "            present_organisation_css_selector = 'input[type=\\'radio\\'][value=' +\"'\" + str(present_organisation) + \"'\" + ']'\n",
    "            driver.find_element_by_css_selector(present_organisation_css_selector).click()\n",
    "\n",
    "            separators = \"-\" \" \"\n",
    "            def custom_split(sepr_list, str_to_split):\n",
    "                # create regular expression dynamically\n",
    "                regular_exp = '|'.join(map(re.escape, sepr_list))\n",
    "                return re.split(regular_exp, str_to_split)\n",
    "            driver.find_element_by_name('15_108').send_keys(random.randrange(int(custom_split(separators, session)[1]), int(custom_split(separators, session)[1]) + 2))\n",
    "\n",
    "            related_job = random.randrange(280,282)\n",
    "            related_job_css_selector = 'input[type=\\'radio\\'][value=' +\"'\" + str(related_job) + \"'\" + ']'\n",
    "            driver.find_element_by_css_selector(related_job_css_selector).click()\n",
    "\n",
    "\n",
    "            curriculum_needs = random.randrange(282,284)\n",
    "            curriculum_needs_css_selector = 'input[type=\\'radio\\'][value=' +\"'\" + str(curriculum_needs) + \"'\" + ']'\n",
    "            driver.find_element_by_css_selector(curriculum_needs_css_selector).click()\n",
    "\n",
    "            satisfied_job = random.randrange(284,286)\n",
    "            satisfied_job_css_selector = 'input[type=\\'radio\\'][value=' +\"'\" + str(satisfied_job) + \"'\" + ']'\n",
    "            driver.find_element_by_css_selector(satisfied_job_css_selector).click()\n",
    "\n",
    "            driver.find_element_by_name('15_112').send_keys(random.randrange(1,3))\n",
    "\n",
    "            additional_skills = ['Yes', 'Yes', 'No']\n",
    "            driver.find_element_by_name('15_113').send_keys(random.choice(additional_skills))\n",
    "\n",
    "            training_before = random.randrange(286,288)\n",
    "            training_before_css_selector = 'input[type=\\'radio\\'][value=' +\"'\" + str(training_before) + \"'\" + ']'\n",
    "            driver.find_element_by_css_selector(training_before_css_selector).click()  \n",
    "\n",
    "            training_during = random.randrange(288,290)\n",
    "            training_during_css_selector = 'input[type=\\'radio\\'][value=' +\"'\" + str(training_during) + \"'\" + ']'\n",
    "            driver.find_element_by_css_selector(training_during_css_selector).click()\n",
    "\n",
    "            difficulty_first_job = random.randrange(290,292)\n",
    "            difficulty_first_job_css_selector = 'input[type=\\'radio\\'][value=' +\"'\" + str(difficulty_first_job) + \"'\" + ']'\n",
    "            driver.find_element_by_css_selector(difficulty_first_job_css_selector).click()\n",
    "\n",
    "            strengths_list = [',hard work', ',honest', ',smart thinking', ',punctuality', ',communication', ',problem solving', ',Creativity', ',empathetic person', ',versatility', ',flexibility', ',focused', ',taking initiative', ',dedication', ',integrity']\n",
    "            list = random.choices(strengths_list, k=3)\n",
    "            for i in range(0, len(list)):\n",
    "                if i == 0:\n",
    "                    driver.find_element_by_name('15_118').send_keys(list[i].split(',')[1])\n",
    "                else:\n",
    "                    driver.find_element_by_name('15_118').send_keys(list[i])\n",
    "\n",
    "            weaknesses_list = [',sleeping', ',bad english', ',late sleeping', ',talk too much', ',playing game', ',watching movie', ',hearing song']\n",
    "            list = random.choices(weaknesses_list, k=3)\n",
    "            for i in range(0, len(list)):\n",
    "                if i == 0:\n",
    "                    driver.find_element_by_name('15_119').send_keys(list[i].split(',')[1])\n",
    "                else:\n",
    "                    driver.find_element_by_name('15_119').send_keys(list[i])\n",
    "\n",
    "            complexity_list = ['Yes', 'Yes', 'No']\n",
    "            driver.find_element_by_name('15_122').send_keys(random.choice(complexity_list))\n",
    "\n",
    "            select = random.randrange(2,6)\n",
    "            university_list = [',BRAC', ',DIU', ',NWU', ',CUET', ',KUET', ',SUST', ',AUST', ',DIU', ',AIUB', ',EWU', ',UAP', ',UIU', ',AUST', ',GUB', ',SUB', ',WUB', ',SEU', ',CIU', ',EUB', ',SUB', ',BIU']\n",
    "            list = random.choices(university_list, k=select)\n",
    "            for i in range(0, len(list)):\n",
    "                if i == 0:\n",
    "                    driver.find_element_by_name('15_123').send_keys(list[i].split(',')[1])\n",
    "                else:\n",
    "                    driver.find_element_by_name('15_123').send_keys(list[i])\n",
    "\n",
    "            qualities_list = ['Passionate', 'Enterprising', 'Reliable', 'Creative', 'Consistency', 'Patience', 'Versatile', 'Ambitious', 'Determined', 'Self-starter']\n",
    "            driver.find_element_by_name('15_124').send_keys(random.choice(qualities_list)) \n",
    "            time.sleep(10)\n",
    "            driver.find_element_by_name('button_submit').click()\n",
    "            time.sleep(10)\n",
    "            #driver.refresh()\n",
    "            if driver.find_elements(By.XPATH, '//*[@id=\"wrapwrap\"]/div[2]/div[1]/div/h1')[0].text == 'Thank you!':\n",
    "                work_row.append(row)\n",
    "                time.sleep(random.randrange(120,800))\n",
    "        except:\n",
    "            pass\n",
    "print(\"Execution Complete\")        \n",
    "for i in work_row:\n",
    "    print(i)"
   ]
  },
  {
   "cell_type": "code",
   "execution_count": 221,
   "metadata": {},
   "outputs": [
    {
     "data": {
      "text/plain": [
       "2011"
      ]
     },
     "execution_count": 221,
     "metadata": {},
     "output_type": "execute_result"
    }
   ],
   "source": [
    "random.randrange(int(custom_split(separators, session)[1]), int(custom_split(separators, session)[1]) + 2)"
   ]
  },
  {
   "cell_type": "code",
   "execution_count": null,
   "metadata": {},
   "outputs": [],
   "source": [
    "for row in range(2, 5):\n",
    "    col = \"S\"\n",
    "    cell = col + str(row)\n",
    "    sheet[cell] = \"ok\"\n",
    "    wb_obj.save('C:\\\\Users\\\\Moyez\\\\AppData\\\\Local\\\\Programs\\\\Python\\\\Python37-32\\\\Scripts\\\\Survey DIU\\\\text2.xlsx')"
   ]
  },
  {
   "cell_type": "code",
   "execution_count": 28,
   "metadata": {},
   "outputs": [],
   "source": [
    "time.sleep(random.randrange(10,13))"
   ]
  },
  {
   "cell_type": "code",
   "execution_count": 17,
   "metadata": {},
   "outputs": [
    {
     "data": {
      "text/plain": [
       "'http://pd.daffodilvarsity.edu.bd/survey/fill/22812fd3-137e-4a63-bf6c-5b4e8fe8c73e/aa69fb8f-b13d-4940-af16-708e1d944b3f'"
      ]
     },
     "execution_count": 17,
     "metadata": {},
     "output_type": "execute_result"
    }
   ],
   "source": [
    "driver.current_url"
   ]
  },
  {
   "cell_type": "code",
   "execution_count": 24,
   "metadata": {},
   "outputs": [
    {
     "name": "stdout",
     "output_type": "stream",
     "text": [
      "ok\n"
     ]
    }
   ],
   "source": [
    "if driver.find_elements(By.XPATH, '//*[@id=\"wrapwrap\"]/div[2]/div[1]/div/h1')[0].text == 'Thank you!':\n",
    "    print('ok')"
   ]
  },
  {
   "cell_type": "code",
   "execution_count": null,
   "metadata": {},
   "outputs": [],
   "source": [
    "row = 4\n",
    "cell_obj3 = sheet_obj.cell(row, column = 3)\n",
    "cell_obj4 = sheet_obj.cell(row, column = 4)\n",
    "cell_obj5 = sheet_obj.cell(row, column = 5)\n",
    "cell_obj8 = sheet_obj.cell(row, column = 8) \n",
    "cell_obj9 = sheet_obj.cell(row, column = 9) \n",
    "cell_obj14 = sheet_obj.cell(row, column = 14) \n",
    "\n",
    "gender = cell_obj3.value\n",
    "name = cell_obj4.value\n",
    "id = cell_obj5.value\n",
    "session = cell_obj8.value\n",
    "organisation = cell_obj9.value\n",
    "mail = cell_obj14.value\n",
    "if mail.find('\\=HYPERLINK'):\n",
    "    mail = mail.split(\"\\\"\")[3]"
   ]
  },
  {
   "cell_type": "code",
   "execution_count": null,
   "metadata": {},
   "outputs": [],
   "source": [
    "mail"
   ]
  },
  {
   "cell_type": "code",
   "execution_count": null,
   "metadata": {},
   "outputs": [],
   "source": [
    " try:\n",
    "    if(gender == 'female'):\n",
    "        driver.find_element_by_css_selector(\"input[type='radio'][value='250']\").click()\n",
    "    else:\n",
    "        driver.find_element_by_css_selector(\"input[type='radio'][value='249']\").click()\n",
    "except:\n",
    "    pass\n",
    "time.sleep(1) \n",
    "\n",
    "driver.find_element_by_name('15_101').send_keys(mail)\n",
    "\n",
    "driver.find_element_by_name('15_102').send_keys(name)\n",
    "\n",
    "driver.find_element_by_name('15_104').send_keys(session)\n",
    "\n",
    "driver.find_element_by_name('15_105').send_keys(str(round(random.uniform(2.70, 3.80), 2)))\n",
    "\n",
    "present_organisation = random.randrange(273,275)\n",
    "present_organisation_css_selector = 'input[type=\\'radio\\'][value=' +\"'\" + str(present_organisation) + \"'\" + ']'\n",
    "driver.find_element_by_css_selector(present_organisation_css_selector).click()\n",
    "\n",
    "separators = \"-\" \" \"\n",
    "def custom_split(sepr_list, str_to_split):\n",
    "    # create regular expression dynamically\n",
    "    regular_exp = '|'.join(map(re.escape, sepr_list))\n",
    "    return re.split(regular_exp, str_to_split)\n",
    "driver.find_element_by_name('15_108').send_keys(custom_split(separators, session)[1])\n",
    "\n",
    "related_job = random.randrange(280,282)\n",
    "related_job_css_selector = 'input[type=\\'radio\\'][value=' +\"'\" + str(related_job) + \"'\" + ']'\n",
    "driver.find_element_by_css_selector(related_job_css_selector).click()\n"
   ]
  },
  {
   "cell_type": "code",
   "execution_count": null,
   "metadata": {},
   "outputs": [],
   "source": [
    " try:\n",
    "    # varsity list value 251-272\n",
    "    time.sleep(1) \n",
    "    if id.split('-')[1] == '15' or id.split('-')[1] == '35':\n",
    "        driver.find_element_by_css_selector(\"input[type=\\'radio\\'][value='251']\").click() \n",
    "    elif id.split('-')[1] == '35':\n",
    "        driver.find_element_by_css_selector(\"input[type=\\'radio\\'][value='252']\").click() \n",
    "    elif id.split('-')[1] == '31' or id.split('-')[1] == '19':\n",
    "        driver.find_element_by_css_selector(\"input[type=\\'radio\\'][value='256']\").click() \n",
    "    elif id.split('-')[1] == '32' or id.split('-')[1] == '23':\n",
    "        driver.find_element_by_css_selector(\"input[type=\\'radio\\'][value='257']\").click() \n",
    "    elif id.split('-')[1] == '33':\n",
    "        driver.find_element_by_css_selector(\"input[type=\\'radio\\'][value='258']\").click() \n",
    "    elif id.split('-')[1] == '11' or id.split('-')[1] == '14':\n",
    "        driver.find_element_by_css_selector(\"input[type=\\'radio\\'][value='260']\").click()\n",
    "    elif id.split('-')[1] == '17':\n",
    "        driver.find_element_by_css_selector(\"input[type=\\'radio\\'][value='261']\").click() \n",
    "    elif id.split('-')[1] == '41' or id.split('-')[1] == '29':\n",
    "        driver.find_element_by_css_selector(\"input[type=\\'radio\\'][value='266']\").click() \n",
    "    elif id.split('-')[1] == '22' or id.split('-')[1] == '10':\n",
    "        driver.find_element_by_css_selector(\"input[type=\\'radio\\'][value='269']\").click() \n",
    "    elif id.split('-')[1] == '38' or id.split('-')[1] == '26':\n",
    "        driver.find_element_by_css_selector(\"input[type=\\'radio\\'][value='270']\").click() \n",
    "    elif id.split('-')[1] == '34':\n",
    "        driver.find_element_by_css_selector(\"input[type=\\'radio\\'][value='267']\").click() \n",
    "    elif id.split('-')[1] == '28':\n",
    "        driver.find_element_by_css_selector(\"input[type=\\'radio\\'][value='271']\").click()\n",
    "except:\n",
    "    pass"
   ]
  },
  {
   "cell_type": "code",
   "execution_count": null,
   "metadata": {},
   "outputs": [],
   "source": [
    "curriculum_needs = random.randrange(282,284)\n",
    "curriculum_needs_css_selector = 'input[type=\\'radio\\'][value=' +\"'\" + str(curriculum_needs) + \"'\" + ']'\n",
    "driver.find_element_by_css_selector(curriculum_needs_css_selector).click()\n",
    "\n",
    "satisfied_job = random.randrange(284,286)\n",
    "satisfied_job_css_selector = 'input[type=\\'radio\\'][value=' +\"'\" + str(satisfied_job) + \"'\" + ']'\n",
    "driver.find_element_by_css_selector(satisfied_job_css_selector).click()\n",
    "    \n",
    "driver.find_element_by_name('15_112').send_keys(random.randrange(1,3))\n",
    "\n",
    "additional_skills = ['Yes', 'Yes', 'No']\n",
    "driver.find_element_by_name('15_113').send_keys(random.choice(additional_skills))\n",
    "\n",
    "training_before = random.randrange(286,288)\n",
    "training_before_css_selector = 'input[type=\\'radio\\'][value=' +\"'\" + str(training_before) + \"'\" + ']'\n",
    "driver.find_element_by_css_selector(training_before_css_selector).click()  \n",
    "    \n",
    "training_during = random.randrange(288,290)\n",
    "training_during_css_selector = 'input[type=\\'radio\\'][value=' +\"'\" + str(training_during) + \"'\" + ']'\n",
    "driver.find_element_by_css_selector(training_during_css_selector).click()\n",
    "\n",
    "difficulty_first_job = random.randrange(290,292)\n",
    "difficulty_first_job_css_selector = 'input[type=\\'radio\\'][value=' +\"'\" + str(difficulty_first_job) + \"'\" + ']'\n",
    "driver.find_element_by_css_selector(difficulty_first_job_css_selector).click()\n",
    "\n",
    "strengths_list = [',hard work', ',honest', ',smart thinking', ',punctuality', ',communication', ',problem solving', ',Creativity', ',empathetic person', ',versatility', ',flexibility', ',focused', ',taking initiative', ',dedication', ',integrity']\n",
    "list = random.choices(strengths_list, k=3)\n",
    "for i in range(0, len(list)):\n",
    "    if i == 0:\n",
    "        driver.find_element_by_name('15_118').send_keys(list[i].split(',')[1])\n",
    "    else:\n",
    "        driver.find_element_by_name('15_118').send_keys(list[i])\n",
    "        \n",
    "weaknesses_list = [',sleeping', ',bad english', ',late sleeping', ',talk too much', ',playing game', ',watching movie', ',hearing song']\n",
    "list = random.choices(weaknesses_list, k=3)\n",
    "for i in range(0, len(list)):\n",
    "    if i == 0:\n",
    "        driver.find_element_by_name('15_119').send_keys(list[i].split(',')[1])\n",
    "    else:\n",
    "        driver.find_element_by_name('15_119').send_keys(list[i])\n",
    "        \n",
    "complexity_list = ['Yes', 'Yes', 'No']\n",
    "driver.find_element_by_name('15_122').send_keys(random.choice(complexity_list))\n",
    "\n",
    "select = random.randrange(2,6)\n",
    "university_list = [',BRAC', ',DIU', ',NWU', ',CUET', ',KUET', ',SUST', ',AUST', ',DIU', ',AIUB', ',EWU', ',UAP', ',UIU', ',AUST']\n",
    "list = random.choices(university_list, k=select)\n",
    "for i in range(0, len(list)):\n",
    "    if i == 0:\n",
    "        driver.find_element_by_name('15_123').send_keys(list[i].split(',')[1])\n",
    "    else:\n",
    "        driver.find_element_by_name('15_123').send_keys(list[i])\n",
    "        \n",
    "qualities_list = ['Passionate', 'Enterprising', 'Reliable', 'Creative', 'Consistency', 'Patience', 'Versatile', 'Ambitious', 'Determined', 'Self-starter']\n",
    "driver.find_element_by_name('15_124').send_keys(random.choice(qualities_list))  \n"
   ]
  },
  {
   "cell_type": "code",
   "execution_count": null,
   "metadata": {},
   "outputs": [],
   "source": []
  },
  {
   "cell_type": "code",
   "execution_count": null,
   "metadata": {},
   "outputs": [],
   "source": [
    "ept = driver.find_elements_by_name('15_103')"
   ]
  },
  {
   "cell_type": "code",
   "execution_count": null,
   "metadata": {},
   "outputs": [],
   "source": [
    "cell_obj5 = sheet_obj.cell(row, column = 6)"
   ]
  },
  {
   "cell_type": "code",
   "execution_count": null,
   "metadata": {},
   "outputs": [],
   "source": [
    "id = cell_obj5.value"
   ]
  },
  {
   "cell_type": "code",
   "execution_count": null,
   "metadata": {},
   "outputs": [],
   "source": [
    "r = '212-123-213'\n",
    "rr = r.split('-')[1]\n",
    "if r.split('-')[1] == '123' or r.split('-')[1] == '121':\n",
    "    print('yes')"
   ]
  },
  {
   "cell_type": "code",
   "execution_count": null,
   "metadata": {},
   "outputs": [],
   "source": [
    "m='23423'\n",
    "if m == '23423':\n",
    "    m = '1'"
   ]
  },
  {
   "cell_type": "code",
   "execution_count": null,
   "metadata": {},
   "outputs": [],
   "source": [
    "m"
   ]
  },
  {
   "cell_type": "code",
   "execution_count": null,
   "metadata": {},
   "outputs": [],
   "source": [
    "dept = random.randrange(280,282)\n",
    "related_job_css_selector = 'input[type=\\'radio\\'][value=' +\"'\" + str(related_job) + \"'\" + ']'\n",
    "driver.find_element_by_css_selector(difficulty_first_job_css_selector).click()"
   ]
  },
  {
   "cell_type": "code",
   "execution_count": null,
   "metadata": {},
   "outputs": [],
   "source": []
  },
  {
   "cell_type": "code",
   "execution_count": null,
   "metadata": {},
   "outputs": [],
   "source": []
  },
  {
   "cell_type": "code",
   "execution_count": null,
   "metadata": {},
   "outputs": [],
   "source": []
  }
 ],
 "metadata": {
  "kernelspec": {
   "display_name": "Python 3",
   "language": "python",
   "name": "python3"
  },
  "language_info": {
   "codemirror_mode": {
    "name": "ipython",
    "version": 3
   },
   "file_extension": ".py",
   "mimetype": "text/x-python",
   "name": "python",
   "nbconvert_exporter": "python",
   "pygments_lexer": "ipython3",
   "version": "3.8.6"
  },
  "varInspector": {
   "cols": {
    "lenName": 16,
    "lenType": 16,
    "lenVar": 40
   },
   "kernels_config": {
    "python": {
     "delete_cmd_postfix": "",
     "delete_cmd_prefix": "del ",
     "library": "var_list.py",
     "varRefreshCmd": "print(var_dic_list())"
    },
    "r": {
     "delete_cmd_postfix": ") ",
     "delete_cmd_prefix": "rm(",
     "library": "var_list.r",
     "varRefreshCmd": "cat(var_dic_list()) "
    }
   },
   "types_to_exclude": [
    "module",
    "function",
    "builtin_function_or_method",
    "instance",
    "_Feature"
   ],
   "window_display": false
  }
 },
 "nbformat": 4,
 "nbformat_minor": 2
}
